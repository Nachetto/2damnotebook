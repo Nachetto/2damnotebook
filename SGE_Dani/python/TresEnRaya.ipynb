{
 "cells": [
  {
   "cell_type": "code",
   "execution_count": null,
   "id": "dbd9bcfc-d1d5-460b-b5f1-751aba9bb106",
   "metadata": {},
   "outputs": [],
   "source": [
    "import pandas as pd\n",
    "from sklearn.model_selection import train_test_split\n",
    "from sklearn.tree import DecisionTreeClassifier\n",
    "from sklearn.metrics import accuracy_score\n",
    "\n",
    "# Cargar el conjunto de datos desde el CSV consolidado\n",
    "df_total = pd.read_csv('partidas_totales.csv')\n",
    "\n",
    "# Convertir el estado final del tablero en características numéricas (puedes usar One-Hot Encoding u otras técnicas)\n",
    "df_total = pd.get_dummies(df_total, columns=['Estado_Final'])\n",
    "\n",
    "# Separar las características (X) y la variable objetivo (y)\n",
    "X_total = df_total.drop(['Resultado'], axis=1)\n",
    "y_total = df_total['Resultado']\n",
    "\n",
    "# Dividir el conjunto de datos en conjuntos de entrenamiento y prueba\n",
    "X_train_total, X_test_total, y_train_total, y_test_total = train_test_split(X_total, y_total, test_size=0.2, random_state=42)\n",
    "\n",
    "# Crear un modelo de clasificación (puedes experimentar con diferentes algoritmos)\n",
    "model_total = DecisionTreeClassifier()\n",
    "\n",
    "# Entrenar el modelo con el conjunto de datos total\n",
    "model_total.fit(X_train_total, y_train_total)\n",
    "\n",
    "# Hacer predicciones en el conjunto de prueba\n",
    "predictions_total = model_total.predict(X_test_total)\n",
    "\n",
    "# Evaluar la precisión del modelo\n",
    "accuracy_total = accuracy_score(y_test_total, predictions_total)\n",
    "print(f'Precisión del modelo: {accuracy_total}')"
   ]
  },
  {
   "cell_type": "code",
   "execution_count": 5,
   "id": "7821ae7a-011a-4b44-813b-4ea00712ffe2",
   "metadata": {},
   "outputs": [
    {
     "name": "stdin",
     "output_type": "stream",
     "text": [
      "Ingrese el nombre del jugador 1:  1\n",
      "Ingrese el nombre del jugador 2:  2\n"
     ]
    },
    {
     "name": "stdout",
     "output_type": "stream",
     "text": [
      "Ronda nº 1\n",
      "Te toca, 1\n"
     ]
    },
    {
     "name": "stdin",
     "output_type": "stream",
     "text": [
      "Ingrese la fila (0, 1, o 2):  0\n",
      "Ingrese la columna (0, 1, o 2):  0\n"
     ]
    },
    {
     "name": "stdout",
     "output_type": "stream",
     "text": [
      "X| | \n",
      " | | \n",
      " | | \n",
      "\n",
      "Te toca, 2\n"
     ]
    },
    {
     "name": "stdin",
     "output_type": "stream",
     "text": [
      "Ingrese la fila (0, 1, o 2):  0\n",
      "Ingrese la columna (0, 1, o 2):  1\n"
     ]
    },
    {
     "name": "stdout",
     "output_type": "stream",
     "text": [
      "X|O| \n",
      " | | \n",
      " | | \n",
      "\n",
      "Te toca, 1\n"
     ]
    },
    {
     "name": "stdin",
     "output_type": "stream",
     "text": [
      "Ingrese la fila (0, 1, o 2):  1\n",
      "Ingrese la columna (0, 1, o 2):  0\n"
     ]
    },
    {
     "name": "stdout",
     "output_type": "stream",
     "text": [
      "X|O| \n",
      "X| | \n",
      " | | \n",
      "\n",
      "Te toca, 2\n"
     ]
    },
    {
     "name": "stdin",
     "output_type": "stream",
     "text": [
      "Ingrese la fila (0, 1, o 2):  1\n",
      "Ingrese la columna (0, 1, o 2):  1\n"
     ]
    },
    {
     "name": "stdout",
     "output_type": "stream",
     "text": [
      "X|O| \n",
      "X|O| \n",
      " | | \n",
      "\n",
      "Te toca, 1\n"
     ]
    },
    {
     "name": "stdin",
     "output_type": "stream",
     "text": [
      "Ingrese la fila (0, 1, o 2):  2\n",
      "Ingrese la columna (0, 1, o 2):  0\n"
     ]
    },
    {
     "name": "stdout",
     "output_type": "stream",
     "text": [
      "X|O| \n",
      "X|O| \n",
      "X| | \n",
      "\n",
      "¡Gana 1!\n",
      "El ganador de esta ronda ha sido 1\n",
      "Ronda nº 2\n",
      "Te toca, 1\n"
     ]
    },
    {
     "name": "stdin",
     "output_type": "stream",
     "text": [
      "Ingrese la fila (0, 1, o 2):  0\n",
      "Ingrese la columna (0, 1, o 2):  0\n"
     ]
    },
    {
     "name": "stdout",
     "output_type": "stream",
     "text": [
      "X| | \n",
      " | | \n",
      " | | \n",
      "\n",
      "Te toca, 2\n"
     ]
    },
    {
     "name": "stdin",
     "output_type": "stream",
     "text": [
      "Ingrese la fila (0, 1, o 2):  0\n",
      "Ingrese la columna (0, 1, o 2):  1\n"
     ]
    },
    {
     "name": "stdout",
     "output_type": "stream",
     "text": [
      "X|O| \n",
      " | | \n",
      " | | \n",
      "\n",
      "Te toca, 1\n"
     ]
    },
    {
     "name": "stdin",
     "output_type": "stream",
     "text": [
      "Ingrese la fila (0, 1, o 2):  1\n",
      "Ingrese la columna (0, 1, o 2):  0\n"
     ]
    },
    {
     "name": "stdout",
     "output_type": "stream",
     "text": [
      "X|O| \n",
      "X| | \n",
      " | | \n",
      "\n",
      "Te toca, 2\n"
     ]
    },
    {
     "name": "stdin",
     "output_type": "stream",
     "text": [
      "Ingrese la fila (0, 1, o 2):  1\n",
      "Ingrese la columna (0, 1, o 2):  1\n"
     ]
    },
    {
     "name": "stdout",
     "output_type": "stream",
     "text": [
      "X|O| \n",
      "X|O| \n",
      " | | \n",
      "\n",
      "Te toca, 1\n"
     ]
    },
    {
     "name": "stdin",
     "output_type": "stream",
     "text": [
      "Ingrese la fila (0, 1, o 2):  2\n",
      "Ingrese la columna (0, 1, o 2):  0\n"
     ]
    },
    {
     "name": "stdout",
     "output_type": "stream",
     "text": [
      "X|O| \n",
      "X|O| \n",
      "X| | \n",
      "\n",
      "¡Gana 1!\n",
      "El ganador de esta ronda ha sido 1\n",
      "Ronda nº 3\n",
      "Te toca, 1\n"
     ]
    },
    {
     "name": "stdin",
     "output_type": "stream",
     "text": [
      "Ingrese la fila (0, 1, o 2):  2\n",
      "Ingrese la columna (0, 1, o 2):  1\n"
     ]
    },
    {
     "name": "stdout",
     "output_type": "stream",
     "text": [
      " | | \n",
      " | | \n",
      " |X| \n",
      "\n",
      "Te toca, 2\n"
     ]
    },
    {
     "name": "stdin",
     "output_type": "stream",
     "text": [
      "Ingrese la fila (0, 1, o 2):  0\n",
      "Ingrese la columna (0, 1, o 2):  0\n"
     ]
    },
    {
     "name": "stdout",
     "output_type": "stream",
     "text": [
      "O| | \n",
      " | | \n",
      " |X| \n",
      "\n",
      "Te toca, 1\n"
     ]
    },
    {
     "name": "stdin",
     "output_type": "stream",
     "text": [
      "Ingrese la fila (0, 1, o 2):  1\n",
      "Ingrese la columna (0, 1, o 2):  1\n"
     ]
    },
    {
     "name": "stdout",
     "output_type": "stream",
     "text": [
      "O| | \n",
      " |X| \n",
      " |X| \n",
      "\n",
      "Te toca, 2\n"
     ]
    },
    {
     "name": "stdin",
     "output_type": "stream",
     "text": [
      "Ingrese la fila (0, 1, o 2):  0\n",
      "Ingrese la columna (0, 1, o 2):  1\n"
     ]
    },
    {
     "name": "stdout",
     "output_type": "stream",
     "text": [
      "O|O| \n",
      " |X| \n",
      " |X| \n",
      "\n",
      "Te toca, 1\n"
     ]
    },
    {
     "name": "stdin",
     "output_type": "stream",
     "text": [
      "Ingrese la fila (0, 1, o 2):  2\n",
      "Ingrese la columna (0, 1, o 2):  2\n"
     ]
    },
    {
     "name": "stdout",
     "output_type": "stream",
     "text": [
      "O|O| \n",
      " |X| \n",
      " |X|X\n",
      "\n",
      "Te toca, 2\n"
     ]
    },
    {
     "name": "stdin",
     "output_type": "stream",
     "text": [
      "Ingrese la fila (0, 1, o 2):  0\n",
      "Ingrese la columna (0, 1, o 2):  2\n"
     ]
    },
    {
     "name": "stdout",
     "output_type": "stream",
     "text": [
      "O|O|O\n",
      " |X| \n",
      " |X|X\n",
      "\n",
      "¡Gana 2!\n",
      "El ganador de esta ronda ha sido 2\n",
      "Ronda nº 4\n",
      "Te toca, 1\n"
     ]
    },
    {
     "name": "stdin",
     "output_type": "stream",
     "text": [
      "Ingrese la fila (0, 1, o 2):  0\n",
      "Ingrese la columna (0, 1, o 2):  0\n"
     ]
    },
    {
     "name": "stdout",
     "output_type": "stream",
     "text": [
      "X| | \n",
      " | | \n",
      " | | \n",
      "\n",
      "Te toca, 2\n"
     ]
    },
    {
     "name": "stdin",
     "output_type": "stream",
     "text": [
      "Ingrese la fila (0, 1, o 2):  0\n",
      "Ingrese la columna (0, 1, o 2):  1\n"
     ]
    },
    {
     "name": "stdout",
     "output_type": "stream",
     "text": [
      "X|O| \n",
      " | | \n",
      " | | \n",
      "\n",
      "Te toca, 1\n"
     ]
    },
    {
     "name": "stdin",
     "output_type": "stream",
     "text": [
      "Ingrese la fila (0, 1, o 2):  1\n",
      "Ingrese la columna (0, 1, o 2):  0\n"
     ]
    },
    {
     "name": "stdout",
     "output_type": "stream",
     "text": [
      "X|O| \n",
      "X| | \n",
      " | | \n",
      "\n",
      "Te toca, 2\n"
     ]
    },
    {
     "name": "stdin",
     "output_type": "stream",
     "text": [
      "Ingrese la fila (0, 1, o 2):  1\n",
      "Ingrese la columna (0, 1, o 2):  1\n"
     ]
    },
    {
     "name": "stdout",
     "output_type": "stream",
     "text": [
      "X|O| \n",
      "X|O| \n",
      " | | \n",
      "\n",
      "Te toca, 1\n"
     ]
    },
    {
     "name": "stdin",
     "output_type": "stream",
     "text": [
      "Ingrese la fila (0, 1, o 2):  2\n",
      "Ingrese la columna (0, 1, o 2):  0\n"
     ]
    },
    {
     "name": "stdout",
     "output_type": "stream",
     "text": [
      "X|O| \n",
      "X|O| \n",
      "X| | \n",
      "\n",
      "¡Gana 1!\n",
      "El ganador de esta ronda ha sido 1\n"
     ]
    }
   ],
   "source": [
    "class TresEnRaya:\n",
    "    def __init__(self):\n",
    "        self.tablero = [[' ' for _ in range(3)] for _ in range(3)]\n",
    "        self.ganador = None\n",
    "        self.empate = False\n",
    "        self.turno = 'X'\n",
    "        self.movimientos = []\n",
    "\n",
    "    def imprimir_tablero(self):\n",
    "        for fila in self.tablero:\n",
    "            print('|'.join(fila))\n",
    "        print()\n",
    "\n",
    "    def movimiento_modelo_aprendido(self):\n",
    "        # Obtén el estado actual del tablero como una cadena\n",
    "        estado_actual = self.obtener_estado_tablero()\n",
    "\n",
    "        # Convierte el estado actual en características numéricas usando One-Hot Encoding\n",
    "        estado_actual_encoded = pd.get_dummies(pd.Series(list(estado_actual)))\n",
    "\n",
    "        # Asegúrate de que todas las columnas necesarias estén presentes (puede haber columnas que no estén presentes en el estado actual)\n",
    "        required_columns = set(X.columns)\n",
    "        missing_columns = required_columns - set(estado_actual_encoded.columns)\n",
    "        for column in missing_columns:\n",
    "            estado_actual_encoded[column] = 0\n",
    "\n",
    "        # Haz la predicción usando el modelo entrenado\n",
    "        movimiento_predicho = model.predict(estado_actual_encoded.values.reshape(1, -1))\n",
    "\n",
    "        # Asegúrate de que el movimiento predicho sea una tupla de fila y columna válidas\n",
    "        while True:\n",
    "            fila_predicha, columna_predicha = np.unravel_index(movimiento_predicho, (3, 3))\n",
    "            if self.tablero[fila_predicha][columna_predicha] == ' ':\n",
    "                return fila_predicha, columna_predicha\n",
    "            else:\n",
    "                # Si el movimiento predicho ya está ocupado, realiza otra predicción\n",
    "                movimiento_predicho = model.predict(estado_actual_encoded.values.reshape(1, -1))\n",
    "\n",
    "    \n",
    "\n",
    "    def realizar_movimiento(self, fila, columna):\n",
    "        if self.turno == 'X':\n",
    "            # Jugador humano\n",
    "            if self.tablero[fila][columna] == ' ':\n",
    "                self.tablero[fila][columna] = self.turno\n",
    "                self.movimientos.append((fila, columna, self.turno))\n",
    "                if self._verificar_ganador(fila, columna):\n",
    "                    self.ganador = self.turno\n",
    "                elif self._verificar_empate():\n",
    "                    self.empate = True\n",
    "                else:\n",
    "                    self.turno = 'O'\n",
    "            else:\n",
    "                print(\"Error al mover inesperado\")\n",
    "                return False\n",
    "        else:\n",
    "            # Modelo aprendido\n",
    "            fila, columna = self.movimiento_modelo_aprendido()\n",
    "            if self.tablero[fila][columna] == ' ':\n",
    "                self.tablero[fila][columna] = self.turno\n",
    "                self.movimientos.append((fila, columna, self.turno))\n",
    "                if self._verificar_ganador(fila, columna):\n",
    "                    self.ganador = self.turno\n",
    "                elif self._verificar_empate():\n",
    "                    self.empate = True\n",
    "                else:\n",
    "                    self.turno = 'X'\n",
    "            else:\n",
    "                # Manejar el caso en el que el modelo intenta moverse a una celda ocupada\n",
    "                print(\"El modelo intenta moverse a una celda ocupada\")\n",
    "                return False\n",
    "        return True\n",
    "\n",
    "    def _verificar_ganador(self, fila, columna):\n",
    "        # Verificar en línea horizontal\n",
    "        if all(self.tablero[fila][i] == self.turno for i in range(3)):\n",
    "            return True\n",
    "\n",
    "        # Verificar en línea vertical\n",
    "        if all(self.tablero[i][columna] == self.turno for i in range(3)):\n",
    "            return True\n",
    "\n",
    "        # Verificar en línea diagonal principal\n",
    "        if fila == columna and all(self.tablero[i][i] == self.turno for i in range(3)):\n",
    "            return True\n",
    "\n",
    "        # Verificar en línea diagonal secundaria\n",
    "        if fila + columna == 2 and all(self.tablero[i][2 - i] == self.turno for i in range(3)):\n",
    "            return True\n",
    "\n",
    "        return False\n",
    "\n",
    "    def _verificar_empate(self):\n",
    "        # Verificar si no hay espacios vacíos y no hay ganador\n",
    "        return all(cell != ' ' for row in self.tablero for cell in row) and not self.ganador\n",
    "\n",
    "    def solicitar_movimiento(self):\n",
    "        while True:\n",
    "            try:\n",
    "                fila = int(input(\"Ingrese la fila (0, 1, o 2): \"))\n",
    "                if 0 <= fila <= 2:\n",
    "                    break  # Salir del bucle si la fila es válida\n",
    "                else:\n",
    "                    print(\"Error, introduce una fila válida por favor.\")\n",
    "            except ValueError:\n",
    "                print(\"Error, introduce un número entero válido por favor.\")\n",
    "    \n",
    "        while True:\n",
    "            try:\n",
    "                columna = int(input(\"Ingrese la columna (0, 1, o 2): \"))\n",
    "                if 0 <= columna <= 2:\n",
    "                    break  # Salir del bucle si la columna es válida\n",
    "                else:\n",
    "                    print(\"Error, introduce una columna válida por favor.\")\n",
    "            except ValueError:\n",
    "                print(\"Error, introduce un número entero válido por favor.\")\n",
    "    \n",
    "        return fila, columna\n",
    "\n",
    "    def obtener_estado_tablero(self):\n",
    "        # Devuelve una cadena que representa el estado actual del tablero\n",
    "        return ''.join([''.join(fila) for fila in self.tablero])\n",
    "\n",
    "\n",
    "class Jugador:\n",
    "    def __init__(self, nombre):\n",
    "        self.simbolo = nombre\n",
    "\n",
    "class Juego:\n",
    "    def __init__(self):\n",
    "        self.jugador1 = Jugador(self._pedir_nombre(1))\n",
    "        self.jugador2 = Jugador(self._pedir_nombre(2))\n",
    "        self.puntuacion_1 = 0\n",
    "        self.puntuacion_2 = 0\n",
    "\n",
    "    def _pedir_nombre(self, jugador):\n",
    "        resultado=''\n",
    "        while resultado == '':\n",
    "            resultado = input(\"Ingrese el nombre del jugador \" + str(jugador) + \": \")\n",
    "        return resultado\n",
    "\n",
    "    def _jugar_ronda(self, tablero):\n",
    "        if tablero.turno == 'X':\n",
    "            print(\"Te toca, \" + self.jugador1.simbolo)\n",
    "        else:\n",
    "            print(\"Te toca, \" + self.jugador2.simbolo)\n",
    "\n",
    "        fila, columna = tablero.solicitar_movimiento()\n",
    "        \n",
    "        while not tablero.realizar_movimiento(fila, columna):\n",
    "            print(\"Error, introduce un movimiento válido.\")\n",
    "            fila, columna = tablero.solicitar_movimiento()\n",
    "        \n",
    "        tablero.imprimir_tablero()\n",
    "        # Verificar ganador o empate\n",
    "        if tablero.ganador == 'X':\n",
    "            self.puntuacion_1 += 1\n",
    "            print(\"¡Gana \" + self.jugador1.simbolo + \"!\")\n",
    "        elif tablero.ganador == 'O':\n",
    "            self.puntuacion_2 += 1\n",
    "            print(\"¡Gana \" + self.jugador2.simbolo + \"!\")\n",
    "        elif tablero.empate:\n",
    "            print(\"Empate.\")\n",
    "\n",
    "    def nueva_partida(self, tablero):\n",
    "        while not tablero.empate and tablero.ganador is None:\n",
    "            self._jugar_ronda(tablero)\n",
    "\n",
    "        return tablero.ganador\n",
    "\n",
    "    def _decir_resultados(self):\n",
    "        if self.puntuacion_1 > self.puntuacion_2:\n",
    "            print(\"El ganador es \" + self.jugador1.simbolo)\n",
    "        elif self.puntuacion_2 > self.puntuacion_1:\n",
    "            print(\"El ganador es \" + self.jugador2.simbolo)\n",
    "        \n",
    "\n",
    "    def jugar_hasta_5(self):\n",
    "        ronda = 1\n",
    "        while self.puntuacion_1 < 5 and self.puntuacion_2 < 5:\n",
    "            print(\"Ronda nº \" + str(ronda))\n",
    "            tablero = TresEnRaya()\n",
    "            resultado = self.nueva_partida(tablero)\n",
    "\n",
    "           # Al final de cada partida, añadir el resultado al DataFrame\n",
    "            df = pd.DataFrame(tablero.movimientos, columns=['Fila', 'Columna', 'Jugador'])\n",
    "            df['Resultado'] = tablero.ganador\n",
    "            df['Estado_Final'] = tablero.obtener_estado_tablero()\n",
    "            \n",
    "            # Cargar el DataFrame existente (si existe) o crear uno nuevo\n",
    "            try:\n",
    "                df_total = pd.read_csv('partidas_totales.csv')\n",
    "                df_total = pd.concat([df_total, df], ignore_index=True)\n",
    "            except FileNotFoundError:\n",
    "                df_total = df\n",
    "            \n",
    "            # Guardar el DataFrame consolidado en un archivo CSV\n",
    "            df_total.to_csv('partidas_totales.csv', index=False)\n",
    "\n",
    "\n",
    "            #Puntuaciones\n",
    "            if resultado == 'X':\n",
    "                self.puntuacion_1 += 1\n",
    "                print(\"El ganador de esta ronda ha sido \" + self.jugador1.simbolo)\n",
    "            elif resultado == 'O':\n",
    "                self.puntuacion_2 += 1\n",
    "                print(\"El ganador de esta ronda ha sido \" + self.jugador2.simbolo)\n",
    "            ronda+=1\n",
    "\n",
    "        \n",
    "            \n",
    "        self._decir_resultados()\n",
    "\n",
    "\n",
    "# Crear una instancia del juego\n",
    "juego = Juego()\n",
    "\n",
    "# Iniciar juego hasta alcanzar 5 puntos\n",
    "juego.jugar_hasta_5()\n"
   ]
  },
  {
   "cell_type": "code",
   "execution_count": null,
   "id": "db01636e-5f44-4ce5-baf1-842c90fa8535",
   "metadata": {},
   "outputs": [],
   "source": [
    "import seaborn as sns\n",
    "import matplotlib.pyplot as plt\n",
    "\n",
    "# Cargar el conjunto de datos consolidado\n",
    "df_total = pd.read_csv('partidas_totales.csv')\n",
    "\n",
    "# Crear un gráfico de barras para la frecuencia de movimientos\n",
    "sns.countplot(x='Jugador', data=df_total)\n",
    "plt.title('Frecuencia de Movimientos')\n",
    "plt.show()\n",
    "\n",
    "# Crear un gráfico de pastel para el rendimiento del programa vs jugador humano\n",
    "plt.figure(figsize=(6, 6))\n",
    "df_total['Resultado'].value_counts().plot.pie(autopct='%1.1f%%', startangle=90)\n",
    "plt.title('Rendimiento del Programa vs Jugador Humano')\n",
    "plt.show()"
   ]
  }
 ],
 "metadata": {
  "kernelspec": {
   "display_name": "Python 3 (ipykernel)",
   "language": "python",
   "name": "python3"
  },
  "language_info": {
   "codemirror_mode": {
    "name": "ipython",
    "version": 3
   },
   "file_extension": ".py",
   "mimetype": "text/x-python",
   "name": "python",
   "nbconvert_exporter": "python",
   "pygments_lexer": "ipython3",
   "version": "3.11.7"
  }
 },
 "nbformat": 4,
 "nbformat_minor": 5
}
