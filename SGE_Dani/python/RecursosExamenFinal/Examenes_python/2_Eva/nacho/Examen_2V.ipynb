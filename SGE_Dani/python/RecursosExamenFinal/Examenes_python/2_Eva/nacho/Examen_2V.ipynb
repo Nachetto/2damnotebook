{
 "cells": [
  {
   "cell_type": "markdown",
   "metadata": {},
   "source": [
    "__Examen de:__ Ignacio Llorente"
   ]
  },
  {
   "cell_type": "markdown",
   "metadata": {},
   "source": [
    "<b><font color='red'>Ejercicio 01</font> __(6 puntos)__</b> \n",
    "\n",
    "Durante un año, una estación meteorológica hecha con un arduino colocada en la comunidad de Madrid, ha tomado muestras diarias de temperatura máxima, mínima y media, además de las horas de luz y la potencia recibida en unos paneles solares utilizados para cargar sus baterias, el archivo tiene formato csv, <a href=\"mediciones_madrid.csv\">mediciones_madrid.csv</a>.\n",
    "\n",
    "__1.1)__ carga los datos y haz un head()"
   ]
  },
  {
   "cell_type": "code",
   "execution_count": null,
   "metadata": {},
   "outputs": [],
   "source": [
    "#Escribe aquí tu código\n",
    "import pandas as pd\n",
    "df = pd.read_csv('mediciones_madrid.csv')\n",
    "df.head()"
   ]
  },
  {
   "cell_type": "markdown",
   "metadata": {},
   "source": [
    "Como se puede ver, el \"día anual\" correspondería al día del año contado desde el 1 de enero, mientras que el \"día\" corresponde al día del mes \n",
    "\n",
    "__1.2)__ Crea un DataFrame llamado \"df\" que solo tenga los datos del mes de tu cumpleaños, muestralo utilizando \"df.describe()\""
   ]
  },
  {
   "cell_type": "code",
   "execution_count": null,
   "metadata": {},
   "outputs": [],
   "source": [
    "#Escribe aquí tu código\n",
    "df2= df[df['mes']==10]\n",
    "df2.describe()"
   ]
  },
  {
   "cell_type": "markdown",
   "metadata": {},
   "source": [
    "responde a la siguiente preguntas : \n",
    "- ¿Cuál es la temeperatura media del mes de tu cumpleaños? (Utitilza \"T\")\n",
    "- ¿Cuál es la temeperatura mínima de mes de tu cumpleaños? (Utiliza \"T_min\")\n",
    "- ¿Cuál es la temeperatura máxima de mes de tu cumpleaños? (Utiliza \"T_max\")"
   ]
  },
  {
   "cell_type": "code",
   "execution_count": 33,
   "metadata": {},
   "outputs": [
    {
     "ename": "NameError",
     "evalue": "name 'valoractual' is not defined",
     "output_type": "error",
     "traceback": [
      "\u001b[1;31m---------------------------------------------------------------------------\u001b[0m",
      "\u001b[1;31mNameError\u001b[0m                                 Traceback (most recent call last)",
      "Cell \u001b[1;32mIn[33], line 16\u001b[0m\n\u001b[0;32m     14\u001b[0m     \u001b[38;5;28;01mif\u001b[39;00m temperatura_max \u001b[38;5;241m>\u001b[39m maxima:\n\u001b[0;32m     15\u001b[0m         maxima \u001b[38;5;241m=\u001b[39m temperatura_max\n\u001b[1;32m---> 16\u001b[0m     suma \u001b[38;5;241m+\u001b[39m\u001b[38;5;241m=\u001b[39m \u001b[43mvaloractual\u001b[49m\n\u001b[0;32m     17\u001b[0m     i\u001b[38;5;241m+\u001b[39m\u001b[38;5;241m=\u001b[39m\u001b[38;5;241m1\u001b[39m \n\u001b[0;32m     20\u001b[0m avg\u001b[38;5;241m=\u001b[39m suma\u001b[38;5;241m/\u001b[39m\u001b[38;5;241m31\u001b[39m\n",
      "\u001b[1;31mNameError\u001b[0m: name 'valoractual' is not defined"
     ]
    }
   ],
   "source": [
    "#Escribe aquí tu código\n",
    "\n",
    "i=0\n",
    "suma=0\n",
    "minima=9999\n",
    "maxima=0\n",
    "while i < 31:\n",
    "    temperatura_normal=df2.iloc[i]['T'].mean()\n",
    "    temperatura_min=df2.iloc[i]['T_min'].mean()\n",
    "    temperatura_max=df2.iloc[i]['T_max'].mean()    \n",
    "    \n",
    "    if temperatura_min < minima:\n",
    "        minima = temperatura_min\n",
    "    if temperatura_max > maxima:\n",
    "        maxima = temperatura_max\n",
    "    suma += valoractual\n",
    "    i+=1 \n",
    "\n",
    "\n",
    "avg= suma/31\n",
    "print('la media es ' +str(avg))\n",
    "\n",
    "if minima != 9999 and maxima != 0:\n",
    "    print('la minima es '+str(minima))\n",
    "    print('la maxima es '+str(maxima))"
   ]
  },
  {
   "cell_type": "markdown",
   "metadata": {},
   "source": [
    "__1.3)__ Haz que se muestren solamente las temperaturas diarias mayores que la media."
   ]
  },
  {
   "cell_type": "code",
   "execution_count": null,
   "metadata": {},
   "outputs": [],
   "source": [
    "#Escribe aquí tu código\n",
    "df[df['T'] < avg]\n"
   ]
  },
  {
   "cell_type": "markdown",
   "metadata": {},
   "source": [
    "__1.4)__ Haz que se muestren solamente los días que estaba el cielo despejado"
   ]
  },
  {
   "cell_type": "code",
   "execution_count": null,
   "metadata": {},
   "outputs": [],
   "source": [
    "#Escribe aquí tu código\n",
    "df[df['despejado']==1]"
   ]
  },
  {
   "cell_type": "markdown",
   "metadata": {},
   "source": [
    "__1.5)__ Representa la temperatura máxima, mínima y media diaria para todo el año, como se muestra a continuación\n",
    "<img src=\"Td_med.png\">  "
   ]
  },
  {
   "cell_type": "code",
   "execution_count": null,
   "metadata": {},
   "outputs": [],
   "source": [
    "#Escribe aquí tu código\n",
    "import matplotlib.pyplot as plt\n",
    "import numpy as np\n",
    "import matplotlib.pyplot as plt\n",
    "# Get the temperature data for the whole year\n",
    "temperatures_max = df['T_max']\n",
    "temperatures_min = df['T_min']\n",
    "temperatures_avg = df['T']\n",
    "\n",
    "# Create an array of days from 1 to 365\n",
    "days = np.arange(1, 366)\n",
    "\n",
    "# Plot the temperature data\n",
    "plt.plot(days, temperatures_max, label='Max Temperature')\n",
    "plt.plot(days, temperatures_min, label='Min Temperature')\n",
    "plt.plot(days, temperatures_avg, label='Avg Temperature')\n",
    "\n",
    "# Add labels and title\n",
    "plt.xlabel('Day of the Year')\n",
    "plt.ylabel('Temperature (°C)')\n",
    "plt.title('Temperature Variation Throughout the Year')\n",
    "\n",
    "# Add legend\n",
    "plt.legend()\n",
    "\n",
    "# Show the plot\n",
    "plt.show()\n"
   ]
  },
  {
   "cell_type": "markdown",
   "metadata": {},
   "source": [
    "__1.6)__ Representa la temperatura frente a los días del año como se muestra a continuación\n",
    "<img src=\"Td2_med.png\">  "
   ]
  },
  {
   "cell_type": "code",
   "execution_count": null,
   "metadata": {},
   "outputs": [],
   "source": [
    "#Escribe aquí tu código"
   ]
  },
  {
   "cell_type": "markdown",
   "metadata": {},
   "source": [
    "__1.7)__ Representa la misma gráfica separando los días despejados, como se muestra a continuación.\n",
    "<img src=\"Td3_med.png\"> "
   ]
  },
  {
   "cell_type": "code",
   "execution_count": null,
   "metadata": {},
   "outputs": [],
   "source": [
    "import numpy as np\n",
    "#Escribe aquí tu código\n",
    "import matplotlib.pyplot as plt\n",
    "# Get the temperature data for the whole year\n",
    "temperatures_max = df['T_max']\n",
    "temperatures_min = df['T_min']\n",
    "temperatures_avg = df['T']\n",
    "\n",
    "# Get the clear days data\n",
    "clear_days_temperatures_max = df[df['despejado'] == 1]['T_max']\n",
    "clear_days_temperatures_min = df[df['despejado'] == 1]['T_min']\n",
    "clear_days_temperatures_avg = df[df['despejado'] == 1]['T']\n",
    "\n",
    "# Create an array of days from 1 to 365\n",
    "days = np.arange(1, 366)\n",
    "\n",
    "# Plot the temperature data\n",
    "plt.plot(days, temperatures_max, label='Max Temperature')\n",
    "plt.plot(days, temperatures_min, label='Min Temperature')\n",
    "plt.plot(days, temperatures_avg, label='Avg Temperature')\n",
    "\n",
    "# Plot the clear days temperature data\n",
    "plt.scatter(days[df['despejado'] == 1], clear_days_temperatures_max, color='red', label='Clear Days Max Temperature')\n",
    "plt.scatter(days[df['despejado'] == 1], clear_days_temperatures_min, color='blue', label='Clear Days Min Temperature')\n",
    "plt.scatter(days[df['despejado'] == 1], clear_days_temperatures_avg, color='green', label='Clear Days Avg Temperature')\n",
    "\n",
    "# Add labels and title\n",
    "plt.xlabel('Day of the Year')\n",
    "plt.ylabel('Temperature (°C)')\n",
    "plt.title('Temperature Variation Throughout the Year (Separating Clear Days)')\n",
    "\n",
    "# Add legend\n",
    "plt.legend()\n",
    "\n",
    "# Show the plot\n",
    "plt.show()\n"
   ]
  },
  {
   "cell_type": "markdown",
   "metadata": {},
   "source": [
    "Responde la siguiente pregunta: \n",
    "- Más o menos a que mes o meses les corresponden los días con más días despejados\n",
    "- ¿Cuál es la temeperatura mínima del año? (Utiliza \"T_min\")\n",
    "- ¿Cuál es la temeperatura máxima del año? (Utiliza \"T_max\")"
   ]
  },
  {
   "cell_type": "markdown",
   "metadata": {},
   "source": [
    "__1.8)__ Representa las horas de luz díarias frente al mes como se muestra a continuación.\n",
    "\n",
    "<img src=\"luz.png\">  "
   ]
  },
  {
   "cell_type": "code",
   "execution_count": null,
   "metadata": {},
   "outputs": [],
   "source": [
    "#Escribe aquí tu código"
   ]
  },
  {
   "cell_type": "markdown",
   "metadata": {},
   "source": [
    "__1.9)__ Representa la temperatura média diaria frente al mes como se muestra a continuación.\n",
    "\n",
    "<img src=\"temp.png\">  "
   ]
  },
  {
   "cell_type": "code",
   "execution_count": null,
   "metadata": {},
   "outputs": [],
   "source": [
    "#Escribe aquí tu código"
   ]
  },
  {
   "cell_type": "markdown",
   "metadata": {},
   "source": [
    "__1.10)__ Haz un analisis de las correlaciones, ¿ Estaría mas relaccionada la temperatura díaria con las horas de sol o con que el cielo este o no despejado?"
   ]
  },
  {
   "cell_type": "code",
   "execution_count": null,
   "metadata": {},
   "outputs": [],
   "source": [
    "#Escribe aquí tu código"
   ]
  },
  {
   "cell_type": "markdown",
   "metadata": {},
   "source": [
    "<b><font color='red'>Ejercicio 02</font> __(2 puntos)__ </b> \n",
    "\n",
    "__2.1)__ Crea un nuevo DataFrame con las temperaturas medias mensuales."
   ]
  },
  {
   "cell_type": "code",
   "execution_count": null,
   "metadata": {},
   "outputs": [],
   "source": [
    "#ayuda\n",
    "meses=[\"enero\",\"febrero\",\"marzo\",\"abril\",\"mayo\",\"junio\",\"julio\",\"agosto\",\"septiembre\",\"octubre\",\"noviembre\",\"diciembre\"]\n",
    "dias = [31,28,31,30,31,30,31,31,30,31,30,31]\n",
    "#Escribe aquí tu código\n",
    "temperaturas = []\n",
    "i=1\n",
    "while i not 13:\n",
    "    dataframe_Mensual= df[df['mes']==i]\n",
    "    #recorres el mes y sumas todas sus temperatudas para sacar la media\n",
    "    \n",
    "\n",
    "\n",
    "df3 = pd.DataFrame(data = {\n",
    "    \"meses\": meses,\n",
    "    \"temperaturas\" : []\n",
    "    },\n",
    "    index = [dias],\n",
    ")"
   ]
  },
  {
   "cell_type": "markdown",
   "metadata": {},
   "source": [
    "__2.2)__ Añade las temperaturas minimas y máximas alacanzadas durante el mes, pintalo y señala la zona fía, en x=1.5 y x=9.8 como se muestra a continuación:\n",
    "\n",
    "<img src=\"t_med.png\">  "
   ]
  },
  {
   "cell_type": "code",
   "execution_count": null,
   "metadata": {},
   "outputs": [],
   "source": [
    "import matplotlib.pyplot as plt\n",
    "\n",
    "# Create a new DataFrame with monthly average temperatures\n",
    "df_monthly = df.groupby('mes').mean()\n",
    "\n",
    "# Get the minimum and maximum temperatures for each month\n",
    "min_temperatures = df.groupby('mes')['T_min'].min()\n",
    "max_temperatures = df.groupby('mes')['T_max'].max()\n",
    "\n",
    "# Plot the monthly average temperatures\n",
    "plt.plot(df_monthly.index, df_monthly['T'], label='Average Temperature')\n",
    "\n",
    "# Plot the minimum and maximum temperatures\n",
    "plt.scatter(min_temperatures.index, min_temperatures, color='red', label='Minimum Temperature')\n",
    "plt.scatter(max_temperatures.index, max_temperatures, color='blue', label='Maximum Temperature')\n",
    "\n",
    "# Highlight the cold zone\n",
    "plt.axvspan(1.5, 9.8, color='gray', alpha=0.3)\n",
    "\n",
    "# Add labels and title\n",
    "plt.xlabel('Month')\n",
    "plt.ylabel('Temperature (°C)')\n",
    "plt.title('Monthly Average Temperature with Minimum and Maximum Temperatures')\n",
    "\n",
    "# Add legend\n",
    "plt.legend()\n",
    "\n",
    "# Show the plot\n",
    "plt.show()\n"
   ]
  },
  {
   "cell_type": "markdown",
   "metadata": {},
   "source": [
    "<b><font color='red'>Ejercicio 03</font> (2 puntos)</b> \n",
    "\n",
    "__3.1)__  Crea los siguientes arrays:\n",
    "- Un array __X__ con una distribución uniforme de 10 números aleatorios entre el 0 y el 10\n",
    "- Un array __a__ con una distribución gausiana de 10 números aleatorios centrada en $\\mu=2$, con $\\sigma=0.4$\n",
    "- Un array __Y = a*X + MES__. Siendo el MES, el mes de tú cumpleaños. Saca por pantalla el array __Y__ "
   ]
  },
  {
   "cell_type": "code",
   "execution_count": null,
   "metadata": {},
   "outputs": [],
   "source": [
    "#Escribe aquí tu código\n",
    "import numpy as np\n",
    "X = np.random.uniform(0, 10, 10)\n",
    "a = np.random.normal(2, 0.4, 10)\n",
    "Y= a*X + 10\n",
    "print(Y)"
   ]
  },
  {
   "cell_type": "markdown",
   "metadata": {},
   "source": [
    "__3.2)__ Pinta los puntos en una gráfica, haz un ajuste por minimos cuadrados y haz que aparezca el ajuste en el título de la gráfica, tiene que quedar algo parecido a:"
   ]
  },
  {
   "cell_type": "markdown",
   "metadata": {},
   "source": [
    "<img src=\"graf_min.png\">  "
   ]
  },
  {
   "cell_type": "code",
   "execution_count": null,
   "metadata": {},
   "outputs": [],
   "source": [
    "import numpy as np\n",
    "import matplotlib.pyplot as plt\n",
    "\n",
    "# Define the arrays X, a, and Y\n",
    "X = np.random.uniform(0, 10, 10)\n",
    "a = np.random.normal(2, 0.4, 10)\n",
    "Y = a * X + 10\n",
    "\n",
    "# Perform the least squares fit\n",
    "coefficients = np.polyfit(X, Y, 1)\n",
    "fit = np.poly1d(coefficients)\n",
    "\n",
    "# Plot the points and the fit\n",
    "plt.scatter(X, Y, label='Points')\n",
    "plt.plot(X, fit(X), color='red', label='Least Squares Fit')\n",
    "\n",
    "# Add labels and title\n",
    "plt.xlabel('X')\n",
    "plt.ylabel('Y')\n",
    "plt.title('Least Squares Fit: Y = {:.2f}X + {:.2f}'.format(coefficients[0], coefficients[1]))\n",
    "\n",
    "# Add legend\n",
    "plt.legend()\n",
    "\n",
    "# Show the plot\n",
    "plt.show()\n"
   ]
  }
 ],
 "metadata": {
  "kernelspec": {
   "display_name": "Python 3 (ipykernel)",
   "language": "python",
   "name": "python3"
  }
 },
 "nbformat": 4,
 "nbformat_minor": 4
}
