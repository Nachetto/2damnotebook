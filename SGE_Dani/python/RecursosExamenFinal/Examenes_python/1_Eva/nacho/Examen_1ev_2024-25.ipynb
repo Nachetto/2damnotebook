{
 "cells": [
  {
   "cell_type": "markdown",
   "metadata": {},
   "source": [
    "__Examen de:__ Ignacio llorente\n",
    "\n",
    "Necesitaras: numpy, matplotlib, random"
   ]
  },
  {
   "cell_type": "code",
   "execution_count": 1,
   "metadata": {},
   "outputs": [
    {
     "name": "stdout",
     "output_type": "stream",
     "text": [
      "En este examen A = 38.0\n"
     ]
    }
   ],
   "source": [
    "#Utiliza aquí tus datos de tu cumpleaños:\n",
    "día=28\n",
    "mes=10\n",
    "A=float(día+mes)\n",
    "print(\"En este examen A =\",A)"
   ]
  },
  {
   "cell_type": "markdown",
   "metadata": {},
   "source": [
    "<hr>\n",
    "<b><font color='red'>Ejercicio 01 (2 puntos)</font></b>\n",
    "\n",
    "Dibuja las siguientes funciones:\n",
    "$$ y = A*x $$\n",
    "$$ y = A*x^2 $$\n",
    "\n",
    "* (0.5 puntos) La fuente de título es : \"Arial\" o \"DejaVu Sans\", de color darkred y tamaño 16.\n",
    "* (0.5 puntos) Los colores de las gráficas son verde, rojo y azul, la linea de 1 y el grid que aparezca por defecto\n",
    "* (0.5 puntos) Dibuja una linea vertical que vaya hasta la solución y leyenda con ecuaciones.\n",
    "* (0.5 puntos) Marca la solución con una $\\star$ y pon las etiquetas en cada eje\n",
    "\n",
    "\n",
    "<img src=\"matplotlib.png\" ALIGN=\"left\" width=500 height=500)>\n"
   ]
  },
  {
   "cell_type": "code",
   "execution_count": 67,
   "metadata": {},
   "outputs": [
    {
     "name": "stderr",
     "output_type": "stream",
     "text": [
      "No artists with labels found to put in legend.  Note that artists whose label start with an underscore are ignored when legend() is called with no argument.\n"
     ]
    },
    {
     "name": "stdout",
     "output_type": "stream",
     "text": [
      "[  0  26  52  78 104 130 156 182 208 234 260 286 312 338 364 390 416 442\n",
      " 468 494 520 546 572 598 624 650]\n",
      "[  2  24  54  76 106 128 158 180 210 232 262 284 314 336 366 388 418 440\n",
      " 470 492 522 544 574 596 626 648]\n"
     ]
    },
    {
     "data": {
      "image/png": "[encoded data removed]",
      "text/plain": [
       "<Figure size 640x480 with 1 Axes>"
      ]
     },
     "metadata": {},
     "output_type": "display_data"
    }
   ],
   "source": [
    "import matplotlib.pyplot as plt\n",
    "import numpy as np\n",
    "A = 26\n",
    "x = np.arange(0, A, 1)\n",
    "y = A*x\n",
    "ydos = A*x^2\n",
    "print(y)\n",
    "print(ydos)\n",
    "plt.plot(y,ydos)\n",
    "font = {'family':'Arial','color':'darkred','size':16}\n",
    "plt.title(\"Título\", loc = 'center', fontdict = font)\n",
    "plt.xlabel(\"y = A*x \")\n",
    "plt.ylabel(\"y = A*x^2\")\n",
    "plt.legend()\n",
    "plt.grid()\n",
    "plt.show()"
   ]
  },
  {
   "cell_type": "markdown",
   "metadata": {},
   "source": [
    "<hr>\n",
    "<b><font color='red'>Ejercicio 02</font></b>\n",
    "\n",
    "<b><font color='red'>A) (1 punto)</font></b>\n",
    "\n",
    "* Crea una clase llamada Repartidor.\n",
    "* El constructor inicializará los atributos **(nombre, zona_entrega, pedidos_entregados)** cuando se cree una instancia de la clase.\n",
    "* Crea un método **entregar_pedido** que registra la entrega de un pedido y muestra un mensaje.\n",
    "* Crea un método **informe_entregas** que imprime un informe con el número total de pedidos entregados por el repartidor.\n",
    "\n",
    "Para probar la clase utiliza el sigiente código:\n",
    "\n",
    "```\n",
    "repartidor1 = Repartidor(\"Carlos\", \"Centro\")\n",
    "\n",
    "repartidor1.entregar_pedido()\n",
    "repartidor1.entregar_pedido()\n",
    "repartidor1.entregar_pedido()\n",
    "\n",
    "repartidor1.informe_entregas()\n",
    "```\n",
    "\n",
    "Deberías obtener:\n",
    "```\n",
    "Carlos ha entregado un pedido en la zona Centro.\n",
    "Carlos ha entregado un pedido en la zona Centro.\n",
    "Carlos ha entregado un pedido en la zona Centro.\n",
    "Carlos ha entregado 3 pedidos en total.\n",
    "```"
   ]
  },
  {
   "cell_type": "code",
   "execution_count": 68,
   "metadata": {},
   "outputs": [
    {
     "name": "stdout",
     "output_type": "stream",
     "text": [
      "Carlos ha entregado un pedido en la zona Centro .\n",
      "Carlos ha entregado un pedido en la zona Centro .\n",
      "Carlos ha entregado un pedido en la zona Centro .\n",
      "Carlos ha entregado 3 pedidos en total.\n"
     ]
    }
   ],
   "source": [
    "#Descomenta el siguiente código para probar la clase:\n",
    "\n",
    "class Repartidor:\n",
    "    pedidos_entregados=0\n",
    "    def __init__(self, nombre, zona_entrega):\n",
    "        self.nombre = nombre\n",
    "        self.zona_entrega = zona_entrega\n",
    "    def entregar_pedido(self):\n",
    "        self.pedidos_entregados = self.pedidos_entregados +1\n",
    "        print(self.nombre,\"ha entregado un pedido en la zona\",self.zona_entrega,\".\")\n",
    "    def informe_entregas(self):\n",
    "        print(self.nombre,\"ha entregado\",self.pedidos_entregados,\"pedidos en total.\")\n",
    "    def repartir_nueva_zona(self, zona):\n",
    "        self.zona_entrega = zona\n",
    "        self.entregar_pedido()\n",
    "\n",
    "    \n",
    "\n",
    "\n",
    "repartidor1 = Repartidor(\"Carlos\", \"Centro\")\n",
    "\n",
    "repartidor1.entregar_pedido()\n",
    "repartidor1.entregar_pedido()\n",
    "repartidor1.entregar_pedido()\n",
    "\n",
    "repartidor1.informe_entregas()"
   ]
  },
  {
   "cell_type": "markdown",
   "metadata": {},
   "source": [
    "<hr>\n",
    "<b><font color='red'>B) (1 punto)</font></b>\n",
    "\n",
    "Utiliza estos repartidores y zonas diferentes para hacer cien repartos aleatorios\n",
    "\n",
    "```\n",
    "zonas = [\"Norte\", \"Sur\", \"Este\", \"Oeste\"]\n",
    "repartidor = [\"Juan\", \"Celia\", \"Lucas\", \"Celeste\",\"Dani\",\"Gema\",\"Ramon\",\"Elvira\",\"Pablo\",\"Clara\"]\n",
    "```\n",
    "\n",
    "La salida tiene que ser:\n",
    "\n",
    "```\n",
    "# Obtener informes de entregas\n",
    "for repartidor in repartidores:\n",
    "    repartidor.informe_entregas()\n",
    "    \n",
    "    \n",
    "Celeste ha entregado un pedido en la zona Oeste.\n",
    "Elvira ha entregado un pedido en la zona Norte.\n",
    "Celeste ha entregado un pedido en la zona Norte.\n",
    "Celeste ha entregado un pedido en la zona Oeste.\n",
    "Elvira ha entregado un pedido en la zona Norte.\n",
    "Dani ha entregado un pedido en la zona Este.\n",
    "Elvira ha entregado un pedido en la zona Norte.\n",
    "Celeste ha entregado un pedido en la zona Oeste.\n",
    "Celeste ha entregado un pedido en la zona Este..\n",
    ".....\n",
    "```\n"
   ]
  },
  {
   "cell_type": "code",
   "execution_count": 69,
   "metadata": {},
   "outputs": [
    {
     "name": "stdout",
     "output_type": "stream",
     "text": [
      "Object `random2.random` not found.\n",
      "Celia ha entregado un pedido en la zona Este .\n",
      "Ramon ha entregado un pedido en la zona Sur .\n",
      "Celia ha entregado un pedido en la zona Sur .\n",
      "Celia ha entregado un pedido en la zona Norte .\n",
      "Pablo ha entregado un pedido en la zona Sur .\n",
      "Elvira ha entregado un pedido en la zona Este .\n",
      "Celeste ha entregado un pedido en la zona Sur .\n",
      "Ramon ha entregado un pedido en la zona Este .\n",
      "Lucas ha entregado un pedido en la zona Sur .\n",
      "Dani ha entregado un pedido en la zona Oeste .\n",
      "Celia ha entregado un pedido en la zona Norte .\n",
      "Dani ha entregado un pedido en la zona Este .\n",
      "Pablo ha entregado un pedido en la zona Este .\n",
      "Pablo ha entregado un pedido en la zona Este .\n",
      "Celia ha entregado un pedido en la zona Oeste .\n",
      "Gema ha entregado un pedido en la zona Este .\n",
      "Clara ha entregado un pedido en la zona Este .\n",
      "Gema ha entregado un pedido en la zona Oeste .\n",
      "Celeste ha entregado un pedido en la zona Este .\n",
      "Juan ha entregado un pedido en la zona Norte .\n",
      "Elvira ha entregado un pedido en la zona Norte .\n",
      "Pablo ha entregado un pedido en la zona Este .\n",
      "Celeste ha entregado un pedido en la zona Oeste .\n",
      "Ramon ha entregado un pedido en la zona Norte .\n",
      "Juan ha entregado un pedido en la zona Oeste .\n",
      "Juan ha entregado un pedido en la zona Sur .\n",
      "Juan ha entregado un pedido en la zona Oeste .\n",
      "Lucas ha entregado un pedido en la zona Oeste .\n",
      "Celeste ha entregado un pedido en la zona Este .\n",
      "Juan ha entregado un pedido en la zona Norte .\n",
      "Gema ha entregado un pedido en la zona Norte .\n",
      "Celeste ha entregado un pedido en la zona Sur .\n",
      "Ramon ha entregado un pedido en la zona Oeste .\n",
      "Ramon ha entregado un pedido en la zona Sur .\n",
      "Ramon ha entregado un pedido en la zona Oeste .\n",
      "Juan ha entregado un pedido en la zona Oeste .\n",
      "Celia ha entregado un pedido en la zona Oeste .\n",
      "Ramon ha entregado un pedido en la zona Sur .\n",
      "Pablo ha entregado un pedido en la zona Oeste .\n",
      "Dani ha entregado un pedido en la zona Norte .\n",
      "Ramon ha entregado un pedido en la zona Sur .\n",
      "Celeste ha entregado un pedido en la zona Sur .\n",
      "Celeste ha entregado un pedido en la zona Sur .\n",
      "Ramon ha entregado un pedido en la zona Este .\n",
      "Elvira ha entregado un pedido en la zona Norte .\n",
      "Celia ha entregado un pedido en la zona Norte .\n",
      "Dani ha entregado un pedido en la zona Oeste .\n",
      "Lucas ha entregado un pedido en la zona Sur .\n",
      "Lucas ha entregado un pedido en la zona Norte .\n",
      "Ramon ha entregado un pedido en la zona Sur .\n",
      "Lucas ha entregado un pedido en la zona Este .\n",
      "Clara ha entregado un pedido en la zona Norte .\n",
      "Dani ha entregado un pedido en la zona Norte .\n",
      "Dani ha entregado un pedido en la zona Este .\n",
      "Dani ha entregado un pedido en la zona Este .\n",
      "Dani ha entregado un pedido en la zona Norte .\n",
      "Dani ha entregado un pedido en la zona Sur .\n",
      "Gema ha entregado un pedido en la zona Norte .\n",
      "Clara ha entregado un pedido en la zona Norte .\n",
      "Elvira ha entregado un pedido en la zona Sur .\n",
      "Gema ha entregado un pedido en la zona Este .\n",
      "Lucas ha entregado un pedido en la zona Este .\n",
      "Celia ha entregado un pedido en la zona Oeste .\n",
      "Elvira ha entregado un pedido en la zona Sur .\n",
      "Pablo ha entregado un pedido en la zona Sur .\n",
      "Pablo ha entregado un pedido en la zona Sur .\n",
      "Elvira ha entregado un pedido en la zona Este .\n",
      "Elvira ha entregado un pedido en la zona Norte .\n",
      "Clara ha entregado un pedido en la zona Norte .\n",
      "Gema ha entregado un pedido en la zona Norte .\n",
      "Clara ha entregado un pedido en la zona Sur .\n",
      "Juan ha entregado un pedido en la zona Oeste .\n",
      "Lucas ha entregado un pedido en la zona Sur .\n",
      "Elvira ha entregado un pedido en la zona Oeste .\n",
      "Ramon ha entregado un pedido en la zona Oeste .\n",
      "Lucas ha entregado un pedido en la zona Oeste .\n",
      "Celeste ha entregado un pedido en la zona Oeste .\n",
      "Clara ha entregado un pedido en la zona Oeste .\n",
      "Elvira ha entregado un pedido en la zona Sur .\n",
      "Gema ha entregado un pedido en la zona Oeste .\n",
      "Pablo ha entregado un pedido en la zona Este .\n",
      "Dani ha entregado un pedido en la zona Oeste .\n",
      "Juan ha entregado un pedido en la zona Este .\n",
      "Clara ha entregado un pedido en la zona Este .\n",
      "Lucas ha entregado un pedido en la zona Sur .\n",
      "Juan ha entregado un pedido en la zona Norte .\n",
      "Gema ha entregado un pedido en la zona Oeste .\n",
      "Gema ha entregado un pedido en la zona Norte .\n",
      "Pablo ha entregado un pedido en la zona Este .\n",
      "Ramon ha entregado un pedido en la zona Norte .\n",
      "Pablo ha entregado un pedido en la zona Oeste .\n",
      "Juan ha entregado un pedido en la zona Oeste .\n",
      "Juan ha entregado un pedido en la zona Este .\n",
      "Pablo ha entregado un pedido en la zona Sur .\n",
      "Clara ha entregado un pedido en la zona Norte .\n",
      "Dani ha entregado un pedido en la zona Este .\n",
      "Celeste ha entregado un pedido en la zona Sur .\n",
      "Lucas ha entregado un pedido en la zona Norte .\n",
      "Ramon ha entregado un pedido en la zona Oeste .\n",
      "Ramon ha entregado un pedido en la zona Oeste .\n",
      "Juan ha entregado 11 pedidos en total.\n",
      "Celia ha entregado 8 pedidos en total.\n",
      "Lucas ha entregado 10 pedidos en total.\n",
      "Celeste ha entregado 9 pedidos en total.\n",
      "Dani ha entregado 11 pedidos en total.\n",
      "Gema ha entregado 9 pedidos en total.\n",
      "Ramon ha entregado 14 pedidos en total.\n",
      "Elvira ha entregado 9 pedidos en total.\n",
      "Pablo ha entregado 11 pedidos en total.\n",
      "Clara ha entregado 8 pedidos en total.\n"
     ]
    },
    {
     "data": {
      "text/plain": [
       "\u001b[1;31mSignature:\u001b[0m \u001b[0mrandom\u001b[0m\u001b[1;33m.\u001b[0m\u001b[0mrandom\u001b[0m\u001b[1;33m(\u001b[0m\u001b[1;33m)\u001b[0m\u001b[1;33m\u001b[0m\u001b[1;33m\u001b[0m\u001b[0m\n",
       "\u001b[1;31mDocstring:\u001b[0m random() -> x in the interval [0, 1).\n",
       "\u001b[1;31mType:\u001b[0m      builtin_function_or_method"
      ]
     },
     "metadata": {},
     "output_type": "display_data"
    }
   ],
   "source": [
    "import random\n",
    "random.random?\n",
    "random2.random?\n",
    "zonas = [\"Norte\", \"Sur\", \"Este\", \"Oeste\"]\n",
    "repartidor = [\"Juan\", \"Celia\", \"Lucas\", \"Celeste\",\"Dani\",\"Gema\",\"Ramon\",\"Elvira\",\"Pablo\",\"Clara\"]\n",
    "repartidores = []\n",
    "for i in repartidor:\n",
    "    repartidores.append(Repartidor(i,random.choice(zonas)))\n",
    "\n",
    "for i in range(100):\n",
    "    random.choice(repartidores).repartir_nueva_zona(random.choice(zonas))\n",
    "\n",
    "#Obtener informes de entregas\n",
    "for repartidor in repartidores:\n",
    "    repartidor.informe_entregas()"
   ]
  },
  {
   "cell_type": "markdown",
   "metadata": {},
   "source": [
    "<hr>\n",
    "<b><font color='red'>C) (1 punto)</font></b>\n",
    "\n",
    "Fíajte en el siguiente informe de entregas:\n",
    "```\n",
    "for repartidor in repartidores:\n",
    "    repartidor.informe_entregas()\n",
    "    \n",
    "Lucas ha entregado 6 pedidos en total.\n",
    "Juan ha entregado 8 pedidos en total.\n",
    "Celia ha entregado 11 pedidos en total.\n",
    "Gema ha entregado 15 pedidos en total.\n",
    "Dani ha entregado 6 pedidos en total.\n",
    "Elvira ha entregado 10 pedidos en total.\n",
    "Celia ha entregado 13 pedidos en total.\n",
    "Pablo ha entregado 10 pedidos en total.\n",
    "Ramon ha entregado 7 pedidos en total.\n",
    "Celia ha entregado 14 pedidos en total.\n",
    "```\n",
    "Crea un informe de entragas ordenado, para este caso particular quedaría como:\n",
    "\n",
    "```\n",
    "# Imprimir informe ordenado\n",
    "for repartidor in informe_ordenado:\n",
    "    repartidor.informe_entregas()\n",
    "    \n",
    "Gema ha entregado 15 pedidos en total.\n",
    "Celia ha entregado 14 pedidos en total.\n",
    "Celia ha entregado 13 pedidos en total.\n",
    "Celia ha entregado 11 pedidos en total.\n",
    "Elvira ha entregado 10 pedidos en total.\n",
    "Pablo ha entregado 10 pedidos en total.\n",
    "Juan ha entregado 8 pedidos en total.\n",
    "Ramon ha entregado 7 pedidos en total.\n",
    "Lucas ha entregado 6 pedidos en total.\n",
    "Dani ha entregado 6 pedidos en total.\n",
    "```"
   ]
  },
  {
   "cell_type": "code",
   "execution_count": null,
   "metadata": {},
   "outputs": [],
   "source": [
    "orders_repartidores=[]\n",
    "for repartidor in repartidores:\n",
    "    orders_repartidores.append(repartidor.pedidos_entregados)\n",
    "orders_repartidores.sort()\n",
    "index = orders_repartidores[0]\n",
    "resultado=[]\n",
    "while index != orders_repartidores[-1]:\n",
    "    for repartidor in repartidores:\n",
    "        if repartidor.pedidos_entregados == index:\n",
    "            resultado.append(repartidor)\n",
    "            index = index + 1\n",
    "            break\n",
    "\n",
    "            \n",
    "\n",
    "\n",
    "# Imprimir informe ordeando\n",
    "for repartidor in resultado:\n",
    "    repartidor.informe_entregas()"
   ]
  },
  {
   "cell_type": "markdown",
   "metadata": {},
   "source": [
    "<hr>\n",
    "<b><font color='red'>Ejercicio 03</font></b> \n",
    "\n",
    "<b><font color='red'>A) (2 puntos) </font></b> \n",
    "\n",
    "Una tragaperras con 3 rodillos y 6 símbolos diferentes en cada rodillo tiene los siguiente premios:\n",
    "\n",
    "* 3 símbolos iguales: 5 monedas.\n",
    "* 2 símbolos iguales: 1 monedas.\n",
    "* ningún símbolo igual: -1 moneda.\n",
    "\n",
    "Escribe un programa que simule el juego y calcule las ganancias o perdidas totales después de un número 1000 jugadas si empezamos con 100 monedas. "
   ]
  },
  {
   "cell_type": "code",
   "execution_count": 3,
   "metadata": {},
   "outputs": [
    {
     "name": "stdout",
     "output_type": "stream",
     "text": [
      "Después de 100 tiradas, las ganancias totales son: 68 monedas.\n"
     ]
    }
   ],
   "source": [
    "import random\n",
    "\n",
    "\n",
    "\n",
    "class Tragaperras:\n",
    "    def __init__(self,tiradas, dinero, simbolo, rodillos):\n",
    "        self.tiradas = tiradas\n",
    "        self.dinero = dinero\n",
    "        self.simoblo= simbolo\n",
    "        self.rodillos = rodillos\n",
    "            \n",
    "    def realizar_tirada(self):\n",
    "        self.rodillos=[random.randint(1,6),random.randint(1,6),random.randint(1,6)]\n",
    "        self.tiradas = self.tiradas +1\n",
    "        if self.rodillos[1]+self.rodillos[2]+self.rodillos[0] == self.rodillos[1]*3:\n",
    "            return 5\n",
    "        if self.rodillos[1]==self.rodillos[2] and self.rodillos[1] != self.rodillos[0]:\n",
    "            return 1\n",
    "        if self.rodillos[0]==self.rodillos[2] and self.rodillos[1] != self.rodillos[0]:\n",
    "            return 1\n",
    "        if self.rodillos[0]==self.rodillos[1] and self.rodillos[1] != self.rodillos[2]:\n",
    "            return 1\n",
    "        else:\n",
    "            return -1\n",
    "    def jugar(self):\n",
    "        while self.tiradas < 100:\n",
    "            self.dinero = self.dinero - self.realizar_tirada()\n",
    "\n",
    "juego = Tragaperras(tiradas=0,dinero=100,simbolo=[1,2,3,4,5,6],rodillos=[1,1,1])   \n",
    "juego.jugar()\n",
    "print(f\"Después de {juego.tiradas} tiradas, las ganancias totales son: {juego.dinero} monedas.\")"
   ]
  },
  {
   "cell_type": "markdown",
   "metadata": {},
   "source": [
    "<b><font color='red'>B) (1 puntos) </font></b> \n",
    "\n",
    "Que sucederia si solo se ganasen las 5 monedas cuando saliese repetido uno de los seis simbolos"
   ]
  },
  {
   "cell_type": "code",
   "execution_count": 4,
   "metadata": {},
   "outputs": [
    {
     "name": "stdout",
     "output_type": "stream",
     "text": [
      "Después de 100 tiradas, las ganancias totales son: 176 monedas.\n"
     ]
    }
   ],
   "source": [
    "import random\n",
    "\n",
    "\n",
    "\n",
    "class Tragaperras2:\n",
    "    def __init__(self,tiradas, dinero, simbolo, rodillos):\n",
    "        self.tiradas = tiradas\n",
    "        self.dinero = dinero\n",
    "        self.simoblo= simbolo\n",
    "        self.rodillos = rodillos\n",
    "            \n",
    "    def realizar_tirada(self):\n",
    "        self.rodillos=[random.randint(1,6),random.randint(1,6),random.randint(1,6)]\n",
    "        self.tiradas = self.tiradas +1\n",
    "        if self.rodillos[1] == self.rodillos[2] and self.rodillos[0]==self.rodillos[1]:\n",
    "            return 5\n",
    "        else:\n",
    "            return -1\n",
    "    def jugar(self):\n",
    "        while self.tiradas < 100:\n",
    "            self.dinero = self.dinero - self.realizar_tirada()\n",
    "\n",
    "juego = Tragaperras2(tiradas=0,dinero=100,simbolo=[1,2,3,4,5,6],rodillos=[1,1,1])   \n",
    "juego.jugar()\n",
    "print(f\"Después de {juego.tiradas} tiradas, las ganancias totales son: {juego.dinero} monedas.\")"
   ]
  },
  {
   "cell_type": "code",
   "execution_count": null,
   "metadata": {},
   "outputs": [],
   "source": []
  }
 ],
 "metadata": {
  "kernelspec": {
   "display_name": "Python 3 (ipykernel)",
   "language": "python",
   "name": "python3"
  },
  "language_info": {
   "codemirror_mode": {
    "name": "ipython",
    "version": 3
   },
   "file_extension": ".py",
   "mimetype": "text/x-python",
   "name": "python",
   "nbconvert_exporter": "python",
   "pygments_lexer": "ipython3",
   "version": "3.11.8"
  }
 },
 "nbformat": 4,
 "nbformat_minor": 4
}
