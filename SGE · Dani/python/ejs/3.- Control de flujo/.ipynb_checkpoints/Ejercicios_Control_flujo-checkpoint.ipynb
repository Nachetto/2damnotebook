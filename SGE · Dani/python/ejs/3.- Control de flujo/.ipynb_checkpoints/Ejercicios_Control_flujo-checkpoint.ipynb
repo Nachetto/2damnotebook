{
 "cells": [
  {
   "cell_type": "markdown",
   "id": "5de198f3",
   "metadata": {},
   "source": [
    "<hr>\n",
    "<b><font color='red'>Ejercicio 01</font></b>  \n",
    "\n",
    "- __La media__, es el promedio  \n",
    "$$\\mu = \\frac{1}{N}\\sum_{i=1}^{N} x_i$$\n",
    "- __La desviación estandar__ es una medida que se utiliza para cuantificar la variación o la dispersión de un conjunto de datos numéricos  \n",
    "$$\\sigma = \\sqrt{\\frac{1}{N}\\sum_{i=1}^{N} ( \\mu  - x_i )^{2}} $$\n",
    "Crea una función que te devuelva la media y la desviación estándar de una lista ordenada.  \n",
    "Pruébalo con lista = [4, 1, 11, 13, 2, 7]  \n",
    "ayuda : https://es.wikipedia.org/wiki/Desviaci%C3%B3n_t%C3%ADpica\n"
   ]
  },
  {
   "cell_type": "code",
   "execution_count": 11,
   "id": "1e17a159",
   "metadata": {},
   "outputs": [
    {
     "name": "stdout",
     "output_type": "stream",
     "text": [
      "[4, 1, 11, 13, 2, 7]\n",
      "media = 6.333333333333333 ± 4.88535225614967\n"
     ]
    }
   ],
   "source": [
    "import math\n",
    "def media(l):\n",
    "    suma = sum(l)\n",
    "    n = len(l)\n",
    "    return suma / n\n",
    "\n",
    "def DES(l):\n",
    "    n = len(l)\n",
    "    if n <= 1:\n",
    "        return 0.0\n",
    "    media_val = media(l)\n",
    "    suma_cuadrados = sum([(x - media_val) ** 2 for x in l])\n",
    "    return math.sqrt(suma_cuadrados / (n - 1))\n",
    "\n",
    "lista = [4, 1, 11, 13, 2, 7]\n",
    "print(lista)\n",
    "print(\"media = \" + str(media(lista)) + \" ± \" + str(DES(lista)))"
   ]
  },
  {
   "cell_type": "markdown",
   "id": "f329a7fa",
   "metadata": {},
   "source": [
    "<hr>\n",
    "<b><font color='red'>Ejercicio 02 </font></b>  \n",
    "    \n",
    "En matemática, la sucesión o __serie de Fibonacci__ es la siguiente sucesión infinita de números naturales:  \n",
    "0 , 1 , 1 , 2 , 3 , 5 , 8 , 13 , 21 , 34 , 55 , 89 , 144 , 233 , 377 , 610 , 987 , 1597  \n",
    "Crea una función que te devuelva la serie de Fibonacci hasta un número dado"
   ]
  },
  {
   "cell_type": "code",
   "execution_count": 23,
   "id": "29c01ca4",
   "metadata": {},
   "outputs": [
    {
     "name": "stdout",
     "output_type": "stream",
     "text": [
      "0 1 1 2 3 5 8 13 21 34 55 89 144 233 377 610 987 1597 2584 4181 6765 "
     ]
    }
   ],
   "source": [
    "def fibonacci(n):\n",
    "    i = 0\n",
    "    suma = 1\n",
    "    counter = 1\n",
    "    print(i, suma, end=\" \")\n",
    "\n",
    "    while counter < n:\n",
    "        result = suma + i\n",
    "        print(result, end=\" \")\n",
    "        i = suma\n",
    "        suma = result\n",
    "        counter = counter + 1\n",
    "\n",
    "fibonacci(20)"
   ]
  },
  {
   "cell_type": "markdown",
   "id": "f254e5ed",
   "metadata": {},
   "source": [
    "<hr>\n",
    "<b><font color='red'>Ejercicio 03</font></b>  \n",
    "\n",
    "Cuenta que, cuando Julio César escribía sus mensajes, reemplazaba cada letra por la que estaba tres lugares más adelante en el alfabeto. Es decir,\n",
    "\"césar\" pasaba a ser \"FHVDU\", crea una función llamada Julio_Cesar que encripte los mensajes de entrada de la siguiente forma:\n",
    "- Pasa las palabras a mayúsculas\n",
    "- Quita los acentos Á -> A, etc ..\n",
    "- Cambia solo ABCDEFGHIJKLMNÑOPQRSTUVWXYZ\n"
   ]
  },
  {
   "cell_type": "markdown",
   "id": "b8b59b29",
   "metadata": {},
   "source": [
    "<hr>\n",
    "<b><font color='red'>Ejercicio 04</font></b>  \n",
    "\n",
    "El cifrado con clave, hay algunas formas de mejorar el método de Julio Cesar sin complicarlo demasiado, por ejemplo elegir una palabra clave con todas sus letras diferentes, supongamos que elegimos TUNOMBRE. Escribimos entonces el alfabeto normal junto con el transformado siguiente:\n",
    "\n",
    "    abc=\"ABCDEFGHIJKLMNÑOPQRSTUVWXYZ\"\n",
    "    ABC=\"TUNOMBREACDFGHIJKLÑOPQVWXYZ\" \n",
    "Utiliza tu nombre sin repetir ninguna letra, es decir si te llamas ANTONIO usa ANTOI "
   ]
  },
  {
   "cell_type": "code",
   "execution_count": 25,
   "id": "deb6d43d",
   "metadata": {},
   "outputs": [
    {
     "name": "stdout",
     "output_type": "stream",
     "text": [
      "EJFT CQFAJ NMOTÑ, ¿LQM PTF MOPTO? TUNOMBREACDFGHIJKLÑOPQVWXYZ\n"
     ]
    }
   ],
   "source": [
    "def Julio_Cesar(entrada):\n",
    "    abc_original = \"ABCDEFGHIJKLMNÑOPQRSTUVWXYZ\"\n",
    "    abc_modificado = \"TUNOMBREACDFGHIJKLÑOPQVWXYZ\"\n",
    "    entrada = entrada.upper()\n",
    "    entrada = entrada.replace(\"Á\", \"A\").replace(\"É\", \"E\").replace(\"Í\", \"I\").replace(\"Ó\", \"O\").replace(\"Ú\", \"U\")\n",
    "    salida = \"\"\n",
    "    for letra in entrada:\n",
    "        if letra in abc_original:\n",
    "            indice = abc_original.index(letra)\n",
    "            letra_modificada = abc_modificado[indice]\n",
    "            salida += letra_modificada\n",
    "        else:\n",
    "            salida += letra\n",
    "    print(salida)\n",
    "Julio_Cesar(\"Hola Julio Cesar, ¿Qué tal estas? ABCDEFGHIJKLMNÑOPQRSTUVWXYZ\")\n"
   ]
  },
  {
   "cell_type": "code",
   "execution_count": 28,
   "id": "1ff4a4ba",
   "metadata": {},
   "outputs": [
    {
     "name": "stdout",
     "output_type": "stream",
     "text": [
      "HOLN NNCHO, ¿QUO TNL OSTNS? NACHOFGHIJKLMNÑOPQRSTUVWXYZ\n"
     ]
    }
   ],
   "source": [
    "def tu_nombre(entrada):\n",
    "    tu_nombre = \"NACHO\"\n",
    "    abc_original = \"ABCDEFGHIJKLMNÑOPQRSTUVWXYZ\"\n",
    "    abc_modificado = tu_nombre + abc_original[len(tu_nombre):]\n",
    "    entrada = entrada.upper()\n",
    "    entrada = entrada.replace(\"Á\", \"A\").replace(\"É\", \"E\").replace(\"Í\", \"I\").replace(\"Ó\", \"O\").replace(\"Ú\", \"U\")\n",
    "    salida = \"\"\n",
    "    for letra in entrada:\n",
    "        if letra in abc_original:\n",
    "            indice = abc_original.index(letra)\n",
    "            letra_modificada = abc_modificado[indice]\n",
    "            salida += letra_modificada\n",
    "        else:\n",
    "            salida += letra\n",
    "    print(salida)\n",
    "\n",
    "tu_nombre(\"Hola nacho, ¿Qué tal estas? ABCDEFGHIJKLMNÑOPQRSTUVWXYZ\")\n"
   ]
  },
  {
   "cell_type": "code",
   "execution_count": null,
   "id": "3d2ecdcf",
   "metadata": {},
   "outputs": [],
   "source": []
  }
 ],
 "metadata": {
  "kernelspec": {
   "display_name": "Python 3 (ipykernel)",
   "language": "python",
   "name": "python3"
  },
  "language_info": {
   "codemirror_mode": {
    "name": "ipython",
    "version": 3
   },
   "file_extension": ".py",
   "mimetype": "text/x-python",
   "name": "python",
   "nbconvert_exporter": "python",
   "pygments_lexer": "ipython3",
   "version": "3.11.5"
  }
 },
 "nbformat": 4,
 "nbformat_minor": 5
}
