{
 "cells": [
  {
   "cell_type": "markdown",
   "id": "9b066a79",
   "metadata": {},
   "source": [
    "<hr>\n",
    "<b><font color='red'>Ejercicio 01</font></b>\n",
    "\n",
    "Completa y responde:"
   ]
  },
  {
   "cell_type": "code",
   "execution_count": 1,
   "id": "14315206",
   "metadata": {},
   "outputs": [
    {
     "name": "stdout",
     "output_type": "stream",
     "text": [
      "Violeta\n",
      "['Rojo', 'Naranja', 'Verde', 'Azul', 'Añil', 'Violeta']\n",
      "['Rojo', 'Verde', 'Naranja', 'Azul', 'Añil', 'Violeta']\n",
      "['Azul', 'Añil', 'Naranja', 'Rojo', 'Verde', 'Violeta']\n",
      "La longitud de la lista es: 6\n"
     ]
    }
   ],
   "source": [
    "lista = [\"Rojo\",\"Naranja\",\"Amarillo\",\"Verde\",\"Azul\",\"Añil\",\"Violeta\"]\n",
    "#imprime por pantalla el septimo item\n",
    "print(lista[6])\n",
    "#borra el Amarillo e imprime por pantalla la lista entera\n",
    "lista.remove(\"Amarillo\")\n",
    "print(lista) #['Rojo', 'Naranja', 'Verde', 'Azul', 'Añil', 'Violeta']\n",
    "#cambia la posción del Naranja por la posición del Verde e imprime por pantalla la lista entera\n",
    "lista[1]=lista[2]\n",
    "lista[2]=\"Naranja\"\n",
    "print(lista)\n",
    "#ordena la lista e imprimela por pantalla\n",
    "lista.sort()\n",
    "print(lista)\n",
    "#¿Cuál es la longitud de la lista?\n",
    "longitud = len(lista)\n",
    "print(\"La longitud de la lista es:\", longitud)"
   ]
  },
  {
   "cell_type": "markdown",
   "id": "49d3d66d",
   "metadata": {},
   "source": [
    "<hr>\n",
    "<b><font color='red'>Ejercicio 02</font></b>\n",
    "\n",
    "Es el mismo ejercicio que el anterior, pero ahora lo hacemos con tuplas."
   ]
  },
  {
   "cell_type": "code",
   "execution_count": 2,
   "id": "ea21a1f9",
   "metadata": {},
   "outputs": [
    {
     "name": "stdout",
     "output_type": "stream",
     "text": [
      "Violeta\n",
      "('Rojo', 'Naranja', 'Verde', 'Azul', 'Añil', 'Violeta')\n",
      "('Rojo', 'Verde', 'Amarillo', 'Naranja', 'Azul', 'Añil', 'Violeta')\n",
      "('Amarillo', 'Azul', 'Añil', 'Naranja', 'Rojo', 'Verde', 'Violeta')\n",
      "La longitud de la tupla es: 7\n"
     ]
    }
   ],
   "source": [
    "tupla = (\"Rojo\",\"Naranja\",\"Amarillo\",\"Verde\",\"Azul\",\"Añil\",\"Violeta\")\n",
    "#imprime por pantalla el septimo item\n",
    "print(tupla[6])\n",
    "#borra el Amarillo e imprime por pantalla la tupla entera\n",
    "tupla_sin_amarillo = tuple(item for item in tupla if item != \"Amarillo\")\n",
    "print(tupla_sin_amarillo)\n",
    "#cambia la posción del Naranja por la posición del Verde e imprime por pantalla la tupla entera\n",
    "lista_de_tupla = list(tupla)\n",
    "lista_de_tupla[1], lista_de_tupla[3] = lista_de_tupla[3], lista_de_tupla[1]\n",
    "tupla = tuple(lista_de_tupla)\n",
    "print(tupla)\n",
    "#ordena la tupla e imprimela por pantalla\n",
    "lista_ordenada = sorted(list(tupla))\n",
    "tupla_ordenada = tuple(lista_ordenada)\n",
    "print(tupla_ordenada)\n",
    "#¿Cuál es la longitud de la tupla?\n",
    "longitud = len(tupla)\n",
    "print(\"La longitud de la tupla es:\", longitud)"
   ]
  },
  {
   "cell_type": "markdown",
   "id": "2a94218a",
   "metadata": {},
   "source": [
    "<hr>\n",
    "<b><font color='red'>Ejercicio 03</font></b>\n",
    "\n",
    "Completa y responde"
   ]
  },
  {
   "cell_type": "code",
   "execution_count": 3,
   "id": "7b28e685",
   "metadata": {},
   "outputs": [
    {
     "name": "stdout",
     "output_type": "stream",
     "text": [
      "¿Cómo te llamas? Ignacio\n",
      "¿Qué día naciste? 28\n",
      "¿Qué mes naciste? 10\n"
     ]
    }
   ],
   "source": [
    "dic = {\n",
    "    \"Nombre\": \"Ignacio\",\n",
    "    \"Apellido\": \"Llorente Galende\",\n",
    "    \"Día de nacimiento\": 28,\n",
    "    \"Mes de nacimiento\": \"octubre\"\n",
    "}\n",
    "# ¿Cómo te llamas?\n",
    "nombre = dic[\"Nombre\"]\n",
    "print(\"¿Cómo te llamas?\", nombre)\n",
    "# ¿Qué día naciste?\n",
    "dia_nacimiento = dic[\"Día de nacimiento\"]\n",
    "print(\"¿Qué día naciste?\", dia_nacimiento)\n",
    "# Utiliza la siguiente lista y con tu diccionario responde a la siguiente pregunta con el nombre del mes\n",
    "MES = [\"enero\", \"febrero\", \"marzo\", \"abril\", \"mayo\", \"junio\", \"julio\", \"agosto\", \"septiembre\", \"octubre\", \"noviembre\", \"diciembre\"]\n",
    "# ¿Qué mes naciste?\n",
    "mes_numero = MES.index(dic[\"Mes de nacimiento\"].lower()) + 1\n",
    "print(\"¿Qué mes naciste?\", mes_numero)\n"
   ]
  },
  {
   "cell_type": "code",
   "execution_count": null,
   "id": "bbfda54b",
   "metadata": {},
   "outputs": [],
   "source": []
  }
 ],
 "metadata": {
  "kernelspec": {
   "display_name": "Python 3 (ipykernel)",
   "language": "python",
   "name": "python3"
  },
  "language_info": {
   "codemirror_mode": {
    "name": "ipython",
    "version": 3
   },
   "file_extension": ".py",
   "mimetype": "text/x-python",
   "name": "python",
   "nbconvert_exporter": "python",
   "pygments_lexer": "ipython3",
   "version": "3.11.5"
  }
 },
 "nbformat": 4,
 "nbformat_minor": 5
}
